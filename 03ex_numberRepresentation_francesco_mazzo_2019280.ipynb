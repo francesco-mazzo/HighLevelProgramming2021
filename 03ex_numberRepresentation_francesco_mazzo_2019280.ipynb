{
 "cells": [
  {
   "cell_type": "markdown",
   "metadata": {},
   "source": [
    "1\\. Write a function that converts numbers among the bin, dec, and hex representations (bin<->dec<->hex)"
   ]
  },
  {
   "cell_type": "code",
   "execution_count": 19,
   "metadata": {},
   "outputs": [
    {
     "name": "stdout",
     "output_type": "stream",
     "text": [
      "Decimal representation of a is: 30\n",
      "Binary representation of a is: 0b11110\n"
     ]
    }
   ],
   "source": [
    "def convert(a):\n",
    "    if type(a) == str:\n",
    "        a_dec = 0\n",
    "        try:\n",
    "            a_dec = int(a,2)\n",
    "        except ValueError:\n",
    "            a_dec = int(a,16)\n",
    "            \n",
    "        a_bin = bin(a_dec)\n",
    "        a_hex = hex(a_dec)\n",
    "        \n",
    "        print(\"Decimal representation of a is: \" + str(a_dec))\n",
    "        \n",
    "        if a == a_bin[2:len(a_bin)]:\n",
    "            print(\"Hexadecimal representation of a is: \" + str(a_hex))\n",
    "        if a == a_hex[2:len(a_hex)]:\n",
    "            print(\"Binary representation of a is: \" + str(a_bin))\n",
    "    \n",
    "    else:\n",
    "        a_bin = bin(a)\n",
    "        a_hex = hex(a)\n",
    "        print(\"Binary representation of a is: \" + str(a_bin))\n",
    "        print(\"Hexadecimal representation of a is: \" + str(a_hex))\n",
    "        \n",
    "# Test of the program\n",
    "a = \"1e\"\n",
    "convert(a)"
   ]
  },
  {
   "cell_type": "markdown",
   "metadata": {},
   "source": [
    "2\\. Write a function that converts a 32 bit word into a single precision floating point (i.e. interprets the various bits as sign, mantissa and exponent) and check its validity."
   ]
  },
  {
   "cell_type": "code",
   "execution_count": 20,
   "metadata": {},
   "outputs": [
    {
     "name": "stdout",
     "output_type": "stream",
     "text": [
      "1.316553672920962e-36\n"
     ]
    }
   ],
   "source": [
    "def convert2(word32bit):\n",
    "    \n",
    "    # It takes the sign of the number\n",
    "    sign = int(word32bit[31])\n",
    "\n",
    "    # It computes the exponenet\n",
    "    exponent = word32bit[23:31]\n",
    "    exponent = reversed(exponent) # we have to apply the \"reversed()\" method because the binary number has to be read from the left to the right\n",
    "    exponent = ''.join([str(item) for item in exponent])\n",
    "    exponent_dec = int(exponent,2)\n",
    "\n",
    "    # It computes the mantissa \n",
    "    mantissa = word32bit[0:23]\n",
    "    mantissa = list(mantissa) \n",
    "    mantissa.reverse() # we have to apply the \"reversed()\" method because the binary number has to be read from the left to the right\n",
    "    mantissa_dec = 0\n",
    "    for i in range(len(mantissa)):\n",
    "        tmp = int(mantissa[i])\n",
    "        if tmp == 1:\n",
    "            mantissa_dec += pow(2,-(i+1))\n",
    "\n",
    "    # Final number without the sign\n",
    "    number = (1+mantissa_dec)*pow(2,exponent_dec-127)\n",
    "    \n",
    "    # Final number with the sign\n",
    "    result = 0\n",
    "    if sign == 0:\n",
    "        result = number\n",
    "    else:\n",
    "        result = -number\n",
    "    \n",
    "    return result\n",
    "\n",
    "# Test of the function\n",
    "word32bit = \"00000000000000000000011111000000\"\n",
    "res = convert2(word32bit)\n",
    "print(res)"
   ]
  },
  {
   "cell_type": "markdown",
   "metadata": {},
   "source": [
    "3\\. Write a program to determine the underflow and overflow limits (within a factor of 2) for python on your computer. \n",
    "\n",
    "**Tip**: define two variables initialized to 1 and halve/double them for a sufficient amount of times to exceed the under/over-flow limits  "
   ]
  },
  {
   "cell_type": "code",
   "execution_count": 21,
   "metadata": {},
   "outputs": [
    {
     "name": "stdout",
     "output_type": "stream",
     "text": [
      "The maximum exponent for a float number is: 1023\n",
      "The minimum exponent for a float number is: -1074\n"
     ]
    },
    {
     "data": {
      "text/plain": [
       "sys.float_info(max=1.7976931348623157e+308, max_exp=1024, max_10_exp=308, min=2.2250738585072014e-308, min_exp=-1021, min_10_exp=-307, dig=15, mant_dig=53, epsilon=2.220446049250313e-16, radix=2, rounds=1)"
      ]
     },
     "execution_count": 21,
     "metadata": {},
     "output_type": "execute_result"
    }
   ],
   "source": [
    "import math\n",
    "import sys\n",
    "\n",
    "test = math.inf\n",
    "maxFloat = 1.0\n",
    "minFloat = 1.0\n",
    "\n",
    "k_max = 1\n",
    "while(maxFloat != test):\n",
    "    maxFloat *= 2\n",
    "    k_max += 1\n",
    "\n",
    "print('The maximum exponent for a float number is: ' + str(k_max-2))\n",
    "# We have to substract 2 from k_max because the minFloat == inf in the iteration corresponding to k_max = 1024 and \n",
    "# then the variable k_max is incremented in the while cycle.\n",
    "\n",
    "k_min = 1\n",
    "while(minFloat != 0):\n",
    "    minFloat /= 2\n",
    "    k_min += 1\n",
    "\n",
    "print('The minimum exponent for a float number is: ' + str(-(k_min-2)))\n",
    "# We have to substract 2 from k_min because the minFloat == 0 in the iteration corresponding to k_min = 1075 and \n",
    "# then the variable k_min is incremented in the while cycle.\n",
    "\n",
    "# we can check the result with the following line of code\n",
    "sys.float_info\n",
    "\n",
    "# Comments:\n",
    "# - we can check the limits for overflow and underflow only with float numbers because int numbers have no limits\n",
    "# - the value of k_min is different from the value provided by \"sys.float_info\". It occurs because the minimum number \n",
    "#   that can be represented with 64 bit is equal to 2^-1074 and 2^-1075 == 0"
   ]
  },
  {
   "cell_type": "markdown",
   "metadata": {},
   "source": [
    "4\\. Write a program to determine the machine precision\n",
    "\n",
    "**Tip**: define a new variable by adding an increasingly smaller value (in the same way as the previous problem) and check when the addition starts to have no effect on the number"
   ]
  },
  {
   "cell_type": "code",
   "execution_count": 22,
   "metadata": {},
   "outputs": [
    {
     "name": "stdout",
     "output_type": "stream",
     "text": [
      "The machine precision is equal to: 1e-15\n"
     ]
    }
   ],
   "source": [
    "v = 5.1 \n",
    "test = 5.0\n",
    "\n",
    "power = 1\n",
    "maxPower = 0 \n",
    "while(v != test):\n",
    "    v = test\n",
    "    epsilon = pow(10,-power) # small value that is added\n",
    "    v += epsilon\n",
    "    if v != test:\n",
    "        power += 1\n",
    "    else: # when this code is run it means that it reaches the maximum precision\n",
    "        maxPower = power \n",
    "\n",
    "print('The machine precision is equal to: ' + str(pow(10,-(maxPower-1))))"
   ]
  },
  {
   "cell_type": "markdown",
   "metadata": {},
   "source": [
    "5\\. Write a function that takes in input three parameters $a$, $b$ and $c$ and prints out the two solutions to the quadratic equation $ax^2+bx+c=0$ using the standard formula:\n",
    "$$\n",
    "x=\\frac{-b\\pm\\sqrt{b^2-4ac}}{2a}\n",
    "$$\n",
    "\n",
    "(a) use the program to compute the solution for $a=0.001$, $b=1000$ and $c=0.001$\n",
    "\n",
    "(b) re-express the standard solution formula by multiplying the numerator and the denominator by $-b\\mp\\sqrt{b^2-4ac}$ and again find the solution for $a=0.001$, $b=1000$ and $c=0.001$. How does it compare with what has been previously obtained, and why?\n",
    "\n",
    "(c) write a function that computes the roots of a quadratic equation accurately in all cases"
   ]
  },
  {
   "cell_type": "code",
   "execution_count": 23,
   "metadata": {},
   "outputs": [
    {
     "name": "stdout",
     "output_type": "stream",
     "text": [
      "(-9.999894245993346e-07, -999999.999999)\n",
      "(-1.000000000001e-06, -1000010.5755125057)\n",
      " \n",
      "How much the fuction solution1 is different from the function solution2?\n",
      "(-1.0575401665491313e-11, -10.575513505726121)\n",
      " \n",
      "(-999999.999999, -1.000000000001e-06)\n"
     ]
    }
   ],
   "source": [
    "import math\n",
    "\n",
    "def solutions1(a,b,c):\n",
    "    delta = b**2-4*a*c\n",
    "    if delta < 0:\n",
    "        print('The determinant is less than 0')\n",
    "    x1 = (-b+math.sqrt(delta))/(2*a)\n",
    "    x2 = (-b-math.sqrt(delta))/(2*a)\n",
    "    x = (x1,x2)\n",
    "    return x \n",
    " \n",
    "def solutions2(a,b,c):\n",
    "    delta = b**2-4*a*c\n",
    "    if delta < 0:\n",
    "        print('The determinant is less than 0')\n",
    "    x1 = (2*c)/(-b-math.sqrt(delta))\n",
    "    x2 = (2*c)/(-b+math.sqrt(delta))\n",
    "    x = (x1,x2)\n",
    "    return x \n",
    "\n",
    "def rightSolutions(a,b,c):\n",
    "    delta = b**2-4*a*c\n",
    "    if delta < 0:\n",
    "        print('The determinant is less than 0')\n",
    "    x1 = (-b-math.sqrt(delta))/(2*a)\n",
    "    x2 = (2*c)/(-b-math.sqrt(delta))\n",
    "    x = (x1,x2)\n",
    "    return x \n",
    "    \n",
    "a = 0.001\n",
    "b = 1000\n",
    "c = 0.001\n",
    "\n",
    "res1 = solutions1(a,b,c)\n",
    "res2 = solutions2(a,b,c)\n",
    "print(res1)\n",
    "print(res2)\n",
    "\n",
    "print(' ')\n",
    "\n",
    "print('How much the fuction solution1 is different from the function solution2?')\n",
    "epsilon = (res2[0]-res1[0],res2[1]-res1[1])\n",
    "print(epsilon)\n",
    "# Using the second function, we can notice only a a slight change in the solutions. \n",
    "# Let's call the function solution1 = f(x) and solution2 = g(x). It means that the function g(x) is numerically\n",
    "# stable because g(x + epsilon) is almost equal to f(x).\n",
    "\n",
    "print(' ')\n",
    "\n",
    "rightRes = rightSolutions(a,b,c)\n",
    "print(rightRes)"
   ]
  },
  {
   "cell_type": "markdown",
   "metadata": {},
   "source": [
    "6\\. Write a program that implements the function $f(x)=x(x−1)$\n",
    "\n",
    "(a) Calculate the derivative of the function at the point $x = 1$ using the derivative definition:\n",
    "\n",
    "$$\n",
    "\\frac{{\\rm d}f}{{\\rm d}x} = \\lim_{\\delta\\to0} \\frac{f(x+\\delta)-f(x)}{\\delta}\n",
    "$$\n",
    "\n",
    "with $\\delta = 10^{−2}$. Calculate the true value of the same derivative analytically and compare it with the answer your program gives. The two will not agree perfectly. Why?\n",
    "\n",
    "(b) Repeat the calculation for $\\delta = 10^{−4}, 10^{−6}, 10^{−8}, 10^{−10}, 10^{−12}$ and $10^{−14}$. How does the accuracy scales with $\\delta$?"
   ]
  },
  {
   "cell_type": "code",
   "execution_count": 24,
   "metadata": {},
   "outputs": [
    {
     "name": "stdout",
     "output_type": "stream",
     "text": [
      "1.010000000000001\n",
      "1\n",
      "1.0000999999998899\n",
      "1.0000009999177333\n",
      "1.0000000039225287\n",
      "1.000000082840371\n",
      "1.0000889005833413\n",
      "0.9992007221626509\n"
     ]
    }
   ],
   "source": [
    "# Definition of function f(x)\n",
    "def f(x):\n",
    "    y = x*(x-1)\n",
    "    return y\n",
    "\n",
    "# Value at which the derivative is computed\n",
    "x = 1\n",
    "\n",
    "# Program with the limit\n",
    "delta = pow(10,-2)\n",
    "diff = (f(x+delta)-f(x))/delta\n",
    "print(diff)\n",
    "\n",
    "# Derivative computed analytically\n",
    "analyticallyDiff = 2*x-1\n",
    "print(analyticallyDiff)\n",
    "\n",
    "# Calculations with multiple delta\n",
    "deltaTuple = (pow(10,-4), pow(10,-6), pow(10,-8), pow(10,-10), pow(10,-12), pow(10,-14))\n",
    "for deltaItem in deltaTuple: \n",
    "    diff = (f(x+deltaItem)-f(x))/deltaItem\n",
    "    print(diff)\n",
    "    \n",
    "# Comparing with the true result, we can observe that the accuracy increases until 10^-8 and then it decreases"
   ]
  },
  {
   "cell_type": "markdown",
   "metadata": {},
   "source": [
    "7\\. Consider the integral of the semicircle of radius 1:\n",
    "$$\n",
    "I=\\int_{-1}^{1} \\sqrt(1-x^2) {\\rm d}x\n",
    "$$\n",
    "which is known to be $I=\\frac{\\pi}{2}=1.57079632679...$.\n",
    "\n",
    "Alternatively we can use the Riemann definition of the integral:\n",
    "$$\n",
    "I=\\lim_{N\\to\\infty} \\sum_{k=1}^{N} h y_k \n",
    "$$\n",
    "\n",
    "with $h=2/N$ the width of each of the $N$ slices the domain is divided into and where\n",
    "$y_k$ is the value of the function at the $k-$th slice.\n",
    "\n",
    "(a) Write a program to compute the integral with $N=100$. How does the result compare to the true value?\n",
    "\n",
    "(b) How much can $N$ be increased if the computation needs to be run in less than a second? What is the gain in running it for 1 minute? \n"
   ]
  },
  {
   "cell_type": "code",
   "execution_count": 25,
   "metadata": {},
   "outputs": [
    {
     "name": "stdout",
     "output_type": "stream",
     "text": [
      "N: 3500000\n",
      "Area: 1.5707960409908874\n",
      "Duration: 1.659027425000204\n"
     ]
    }
   ],
   "source": [
    "import math\n",
    "from timeit import default_timer as timer\n",
    "\n",
    "def area(N):\n",
    "    h = 2/N\n",
    "    I = 0\n",
    "    for k in range(1,N+1):\n",
    "        I += h*math.sqrt(1-(k/N)**2)\n",
    "    return I\n",
    "\n",
    "N = 3500000\n",
    "A = 0\n",
    "duration = 0\n",
    "\n",
    "begin = timer()\n",
    "A = area(N)\n",
    "end = timer()\n",
    "duration = end-begin\n",
    "\n",
    "print('N: ' + str(N))\n",
    "print('Area: ' + str(A))\n",
    "print('Duration: ' + str(duration))\n",
    "\n",
    "# N = 3500000 -> almost 1 second\n",
    "# N = 200000000 -> almost 1 minute\n",
    "# If we run the code with N = 200000000 the result is very close to the true value"
   ]
  },
  {
   "cell_type": "code",
   "execution_count": null,
   "metadata": {},
   "outputs": [],
   "source": []
  }
 ],
 "metadata": {
  "kernelspec": {
   "display_name": "Python 3",
   "language": "python",
   "name": "python3"
  },
  "language_info": {
   "codemirror_mode": {
    "name": "ipython",
    "version": 3
   },
   "file_extension": ".py",
   "mimetype": "text/x-python",
   "name": "python",
   "nbconvert_exporter": "python",
   "pygments_lexer": "ipython3",
   "version": "3.8.8"
  }
 },
 "nbformat": 4,
 "nbformat_minor": 2
}
