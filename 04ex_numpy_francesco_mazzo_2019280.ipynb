{
 "cells": [
  {
   "cell_type": "markdown",
   "metadata": {},
   "source": [
    "1\\. Find the total mean, and the mean for each row and column of the following matrix:\n",
    "\n",
    "```python\n",
    "m = np.arange(12).reshape((3,4))\n",
    "```"
   ]
  },
  {
   "cell_type": "code",
   "execution_count": 9,
   "metadata": {},
   "outputs": [
    {
     "name": "stdout",
     "output_type": "stream",
     "text": [
      "Matrix m:\n",
      "[[ 0  1  2  3]\n",
      " [ 4  5  6  7]\n",
      " [ 8  9 10 11]]\n",
      "\n",
      "Mean for each row:\n",
      "[1.5 5.5 9.5]\n",
      "\n",
      "Mean for each column:\n",
      "[4. 5. 6. 7.]\n",
      "\n",
      "Total mean: 5.5\n"
     ]
    }
   ],
   "source": [
    "import numpy as np\n",
    "\n",
    "m = np.arange(12).reshape((3,4))\n",
    "\n",
    "print(\"Matrix m:\\n\" + str(m))\n",
    "\n",
    "Nrow = m.shape[0] # Number of row\n",
    "Ncolumn = m.T.shape[0] # Number of column\n",
    "\n",
    "meanRow = np.zeros(Nrow)\n",
    "meanColumn = np.zeros(Ncolumn)\n",
    "\n",
    "# Compute the mean for each row\n",
    "for i in range(Nrow):\n",
    "    meanRow[i] = np.mean(m[i])\n",
    "\n",
    "# Compute the mean for each column\n",
    "for i in range(Ncolumn):\n",
    "    meanColumn[i] = np.mean(m[:,i])\n",
    "\n",
    "print(\"\\nMean for each row:\\n\" + str(meanRow))\n",
    "print(\"\\nMean for each column:\\n\" + str(meanColumn))\n",
    "\n",
    "# Compute the total mean\n",
    "total_mean = np.mean(meanRow)\n",
    "print(\"\\nTotal mean: \" + str(total_mean))"
   ]
  },
  {
   "cell_type": "markdown",
   "metadata": {},
   "source": [
    "2\\. Find the outer product of the following vectors:\n",
    "\n",
    "```python\n",
    "u = np.array([1, 3, 5, 7])\n",
    "v = np.array([2, 4, 6, 8])\n",
    "```\n",
    "\n",
    "Use different methods to do this:\n",
    "\n",
    "   1. Using the function `outer` in numpy\n",
    "   2. Using a nested `for` loop or a list comprehension\n",
    "   3. Using numpy broadcasting operations"
   ]
  },
  {
   "cell_type": "code",
   "execution_count": 10,
   "metadata": {},
   "outputs": [
    {
     "name": "stdout",
     "output_type": "stream",
     "text": [
      "Outer product with numpy:\n",
      "[[ 2  4  6  8]\n",
      " [ 6 12 18 24]\n",
      " [10 20 30 40]\n",
      " [14 28 42 56]]\n",
      "\n",
      "Outer product with nested for loop:\n",
      "[[ 2  4  6  8]\n",
      " [ 6 12 18 24]\n",
      " [10 20 30 40]\n",
      " [14 28 42 56]]\n",
      "\n",
      "Outer product with broadcasting operations:\n",
      "[[ 2  4  6  8]\n",
      " [ 6 12 18 24]\n",
      " [10 20 30 40]\n",
      " [14 28 42 56]]\n"
     ]
    }
   ],
   "source": [
    "u = np.array([1, 3, 5, 7])\n",
    "v = np.array([2, 4, 6, 8])\n",
    "\n",
    "outer_np = np.outer(u,v)\n",
    "print(\"Outer product with numpy:\\n\" + str(outer_np))\n",
    "\n",
    "outer_for = np.zeros((4,4),dtype=int)\n",
    "for i in range(len(outer_for[0,:])):\n",
    "    for j in range(len(outer_for[:,0])):\n",
    "        outer_for[i,j] = u[i]*v[j]\n",
    "        \n",
    "print(\"\\nOuter product with nested for loop:\\n\" + str(outer_for))\n",
    "\n",
    "outer_broadcasting = (np.tile(u,(4,1)).T)*v\n",
    "print(\"\\nOuter product with broadcasting operations:\\n\" + str(outer_broadcasting))"
   ]
  },
  {
   "cell_type": "markdown",
   "metadata": {},
   "source": [
    "3\\. Create a 10 by 6 matrix of increasing float numbers, starting from zero and increasing in each step by 0.1, so the output matrix looks like the following:\n",
    "\n",
    "```python\n",
    "m = [[0. 0.1, 0.2 0.3 ... 0.9]\n",
    "     [1.0 1.1 1.2 1.3 ... 1.9]\n",
    "     ...\n",
    "     [5.0 5.1 5.2 5.3 ... 5.9]]\n",
    "```\n",
    "After creating the matrix, set all entries with a decimal part $< 0.4$ to zero."
   ]
  },
  {
   "cell_type": "code",
   "execution_count": 11,
   "metadata": {},
   "outputs": [
    {
     "name": "stdout",
     "output_type": "stream",
     "text": [
      "Matrix m:\n",
      "[[0.  0.1 0.2 0.3 0.4 0.5 0.6 0.7 0.8 0.9]\n",
      " [1.  1.1 1.2 1.3 1.4 1.5 1.6 1.7 1.8 1.9]\n",
      " [2.  2.1 2.2 2.3 2.4 2.5 2.6 2.7 2.8 2.9]\n",
      " [3.  3.1 3.2 3.3 3.4 3.5 3.6 3.7 3.8 3.9]\n",
      " [4.  4.1 4.2 4.3 4.4 4.5 4.6 4.7 4.8 4.9]\n",
      " [5.  5.1 5.2 5.3 5.4 5.5 5.6 5.7 5.8 5.9]]\n",
      "\n",
      "Matrix m with all entries with a decimal part < 0.4 equal to zero:\n",
      "[[0.  0.  0.  0.  0.4 0.5 0.6 0.7 0.8 0.9]\n",
      " [0.  0.  0.  0.  1.4 1.5 1.6 1.7 1.8 1.9]\n",
      " [0.  0.  0.  0.  2.4 2.5 2.6 2.7 2.8 2.9]\n",
      " [0.  0.  0.  0.  3.4 3.5 3.6 3.7 3.8 3.9]\n",
      " [0.  0.  0.  0.  4.4 4.5 4.6 4.7 4.8 4.9]\n",
      " [0.  0.  0.  0.  5.4 5.5 5.6 5.7 5.8 5.9]]\n"
     ]
    }
   ],
   "source": [
    "m = (np.arange(0, 6, 0.1)).reshape(6,10)\n",
    "print(\"Matrix m:\\n\" + str(m))\n",
    "\n",
    "m[m % 1 < 0.4] = 0 # It sets to zero all entries that have a decimal part < 0.4\n",
    "print(\"\\nMatrix m with all entries with a decimal part < 0.4 equal to zero:\\n\" + str(m))"
   ]
  },
  {
   "cell_type": "markdown",
   "metadata": {},
   "source": [
    "4\\. Use `np.linspace` to create an array of 100 numbers between 0 and 2π (inclusive).\n",
    "\n",
    "  * Extract every 10th element using the slice notation\n",
    "  * Reverse the array using the slice notation\n",
    "  * Extract elements where the absolute difference between the sin and cos functions evaluated for that element is $< 0.1$\n",
    "  * **Optional**: make a plot showing the sin and cos functions and indicate where they are close"
   ]
  },
  {
   "cell_type": "code",
   "execution_count": 12,
   "metadata": {},
   "outputs": [
    {
     "name": "stdout",
     "output_type": "stream",
     "text": [
      "Vector x:\n",
      "[0.         0.06346652 0.12693304 0.19039955 0.25386607 0.31733259\n",
      " 0.38079911 0.44426563 0.50773215 0.57119866 0.63466518 0.6981317\n",
      " 0.76159822 0.82506474 0.88853126 0.95199777 1.01546429 1.07893081\n",
      " 1.14239733 1.20586385 1.26933037 1.33279688 1.3962634  1.45972992\n",
      " 1.52319644 1.58666296 1.65012947 1.71359599 1.77706251 1.84052903\n",
      " 1.90399555 1.96746207 2.03092858 2.0943951  2.15786162 2.22132814\n",
      " 2.28479466 2.34826118 2.41172769 2.47519421 2.53866073 2.60212725\n",
      " 2.66559377 2.72906028 2.7925268  2.85599332 2.91945984 2.98292636\n",
      " 3.04639288 3.10985939 3.17332591 3.23679243 3.30025895 3.36372547\n",
      " 3.42719199 3.4906585  3.55412502 3.61759154 3.68105806 3.74452458\n",
      " 3.8079911  3.87145761 3.93492413 3.99839065 4.06185717 4.12532369\n",
      " 4.1887902  4.25225672 4.31572324 4.37918976 4.44265628 4.5061228\n",
      " 4.56958931 4.63305583 4.69652235 4.75998887 4.82345539 4.88692191\n",
      " 4.95038842 5.01385494 5.07732146 5.14078798 5.2042545  5.26772102\n",
      " 5.33118753 5.39465405 5.45812057 5.52158709 5.58505361 5.64852012\n",
      " 5.71198664 5.77545316 5.83891968 5.9023862  5.96585272 6.02931923\n",
      " 6.09278575 6.15625227 6.21971879 6.28318531]\n",
      "\n",
      "Extract every 10th element using the slice notation:\n",
      "[0.         0.63466518 1.26933037 1.90399555 2.53866073 3.17332591\n",
      " 3.8079911  4.44265628 5.07732146 5.71198664]\n",
      "\n",
      "Vector x reverse:\n",
      "[6.28318531 6.21971879 6.15625227 6.09278575 6.02931923 5.96585272\n",
      " 5.9023862  5.83891968 5.77545316 5.71198664 5.64852012 5.58505361\n",
      " 5.52158709 5.45812057 5.39465405 5.33118753 5.26772102 5.2042545\n",
      " 5.14078798 5.07732146 5.01385494 4.95038842 4.88692191 4.82345539\n",
      " 4.75998887 4.69652235 4.63305583 4.56958931 4.5061228  4.44265628\n",
      " 4.37918976 4.31572324 4.25225672 4.1887902  4.12532369 4.06185717\n",
      " 3.99839065 3.93492413 3.87145761 3.8079911  3.74452458 3.68105806\n",
      " 3.61759154 3.55412502 3.4906585  3.42719199 3.36372547 3.30025895\n",
      " 3.23679243 3.17332591 3.10985939 3.04639288 2.98292636 2.91945984\n",
      " 2.85599332 2.7925268  2.72906028 2.66559377 2.60212725 2.53866073\n",
      " 2.47519421 2.41172769 2.34826118 2.28479466 2.22132814 2.15786162\n",
      " 2.0943951  2.03092858 1.96746207 1.90399555 1.84052903 1.77706251\n",
      " 1.71359599 1.65012947 1.58666296 1.52319644 1.45972992 1.3962634\n",
      " 1.33279688 1.26933037 1.20586385 1.14239733 1.07893081 1.01546429\n",
      " 0.95199777 0.88853126 0.82506474 0.76159822 0.6981317  0.63466518\n",
      " 0.57119866 0.50773215 0.44426563 0.38079911 0.31733259 0.25386607\n",
      " 0.19039955 0.12693304 0.06346652 0.        ]\n",
      "\n",
      "Elements where the absolute difference between the sin and cos functions evaluated for that element is < 0.1:\n",
      "[0.76159822 0.82506474 3.87145761 3.93492413]\n"
     ]
    },
    {
     "data": {
      "image/png": "[encoded data removed]",
      "text/plain": [
       "<Figure size 432x288 with 1 Axes>"
      ]
     },
     "metadata": {
      "needs_background": "light"
     },
     "output_type": "display_data"
    }
   ],
   "source": [
    "import matplotlib.pyplot as plt\n",
    "\n",
    "x = np.linspace(0,2*np.pi,num=100)\n",
    "print(\"Vector x:\\n\" + str(x))\n",
    "\n",
    "x10 = x[:len(x):10]\n",
    "print(\"\\nExtract every 10th element using the slice notation:\\n\" + str(x10))\n",
    "\n",
    "x_reverse = x[::-1]\n",
    "print(\"\\nVector x reverse:\\n\" + str(x_reverse))\n",
    "\n",
    "x_sin_cos = x[abs(np.sin(x)-np.cos(x))<0.1]\n",
    "print(\"\\nElements where the absolute difference between the sin and cos functions evaluated for that element is < 0.1:\\n\" + str(x_sin_cos))\n",
    "\n",
    "\n",
    "%matplotlib inline\n",
    "plt.plot(x,np.cos(x))\n",
    "plt.plot(x,np.sin(x))\n",
    "plt.scatter(x_sin_cos,np.cos(x_sin_cos),c=\"green\")\n",
    "plt.scatter(x_sin_cos,np.sin(x_sin_cos),c=\"red\")\n",
    "plt.grid()"
   ]
  },
  {
   "cell_type": "markdown",
   "metadata": {},
   "source": [
    "5\\. Create a matrix that shows the 10 by 10 multiplication table.\n",
    "\n",
    " * Find the trace of the matrix\n",
    " * Extract the anti-diagonal matrix (this should be ```array([10, 18, 24, 28, 30, 30, 28, 24, 18, 10])```)\n",
    " * Extract the diagonal offset by 1 upwards (this should be ```array([ 2,  6, 12, 20, 30, 42, 56, 72, 90])```)"
   ]
  },
  {
   "cell_type": "code",
   "execution_count": 13,
   "metadata": {},
   "outputs": [
    {
     "name": "stdout",
     "output_type": "stream",
     "text": [
      "10 by 10 multiplication table:\n",
      "[[  1   2   3   4   5   6   7   8   9  10]\n",
      " [  2   4   6   8  10  12  14  16  18  20]\n",
      " [  3   6   9  12  15  18  21  24  27  30]\n",
      " [  4   8  12  16  20  24  28  32  36  40]\n",
      " [  5  10  15  20  25  30  35  40  45  50]\n",
      " [  6  12  18  24  30  36  42  48  54  60]\n",
      " [  7  14  21  28  35  42  49  56  63  70]\n",
      " [  8  16  24  32  40  48  56  64  72  80]\n",
      " [  9  18  27  36  45  54  63  72  81  90]\n",
      " [ 10  20  30  40  50  60  70  80  90 100]]\n",
      "\n",
      "Trace of the matrix M: 385\n",
      "\n",
      "Anti-diagonal of the matrix M:\n",
      "[10 18 24 28 30 30 28 24 18 10]\n",
      "\n",
      "Diagonal offset by 1 of the matrix M:\n",
      "[ 2  6 12 20 30 42 56 72 90]\n"
     ]
    }
   ],
   "source": [
    "x = np.arange(1,11,1)\n",
    "M = (np.tile(x,(10,1))).T*x\n",
    "print(\"10 by 10 multiplication table:\\n\" + str(M))\n",
    "\n",
    "trace = sum(np.diag(M))\n",
    "print(\"\\nTrace of the matrix M: \" + str(trace))\n",
    "\n",
    "anti_diagonal = np.diag(np.fliplr(M))\n",
    "# Function np.fliplr\n",
    "# For a 2-D array, the function flips the entries in each row in the left/right direction. \n",
    "# Columns are preserved, but appear in a different order than before.\n",
    "print(\"\\nAnti-diagonal of the matrix M:\\n\" + str(anti_diagonal))\n",
    "\n",
    "diag_offset1 = np.diagonal(M,1)\n",
    "print(\"\\nDiagonal offset by 1 of the matrix M:\\n\" + str(diag_offset1))"
   ]
  },
  {
   "cell_type": "markdown",
   "metadata": {},
   "source": [
    "6\\. Use broadcasting to create a grid of distances.\n",
    "\n",
    "Route 66 crosses the following cities in the US: Chicago, Springfield, Saint-Louis, Tulsa, Oklahoma City, Amarillo, Santa Fe, Albuquerque, Flagstaff, Los Angeles\n",
    "The corresponding positions in miles are: 0, 198, 303, 736, 871, 1175, 1475, 1544, 1913, 2448\n",
    "\n",
    "  * Build a 2D grid of distances among each city along Route 66\n",
    "  * Convert the distances in km"
   ]
  },
  {
   "cell_type": "code",
   "execution_count": 14,
   "metadata": {},
   "outputs": [
    {
     "name": "stdout",
     "output_type": "stream",
     "text": [
      "2D grid of distances among each city along Route 66:\n",
      "[[   0  198  303  736  871 1175 1475 1544 1913 2448]\n",
      " [ 198    0  105  538  673  977 1277 1346 1715 2250]\n",
      " [ 303  105    0  433  568  872 1172 1241 1610 2145]\n",
      " [ 736  538  433    0  135  439  739  808 1177 1712]\n",
      " [ 871  673  568  135    0  304  604  673 1042 1577]\n",
      " [1175  977  872  439  304    0  300  369  738 1273]\n",
      " [1475 1277 1172  739  604  300    0   69  438  973]\n",
      " [1544 1346 1241  808  673  369   69    0  369  904]\n",
      " [1913 1715 1610 1177 1042  738  438  369    0  535]\n",
      " [2448 2250 2145 1712 1577 1273  973  904  535    0]]\n",
      "\n",
      "2D grid of distances among each city along Route 66 in km:\n",
      "[[   0.     366.696  561.156 1363.072 1613.092 2176.1   2731.7   2859.488\n",
      "  3542.876 4533.696]\n",
      " [ 366.696    0.     194.46   996.376 1246.396 1809.404 2365.004 2492.792\n",
      "  3176.18  4167.   ]\n",
      " [ 561.156  194.46     0.     801.916 1051.936 1614.944 2170.544 2298.332\n",
      "  2981.72  3972.54 ]\n",
      " [1363.072  996.376  801.916    0.     250.02   813.028 1368.628 1496.416\n",
      "  2179.804 3170.624]\n",
      " [1613.092 1246.396 1051.936  250.02     0.     563.008 1118.608 1246.396\n",
      "  1929.784 2920.604]\n",
      " [2176.1   1809.404 1614.944  813.028  563.008    0.     555.6    683.388\n",
      "  1366.776 2357.596]\n",
      " [2731.7   2365.004 2170.544 1368.628 1118.608  555.6      0.     127.788\n",
      "   811.176 1801.996]\n",
      " [2859.488 2492.792 2298.332 1496.416 1246.396  683.388  127.788    0.\n",
      "   683.388 1674.208]\n",
      " [3542.876 3176.18  2981.72  2179.804 1929.784 1366.776  811.176  683.388\n",
      "     0.     990.82 ]\n",
      " [4533.696 4167.    3972.54  3170.624 2920.604 2357.596 1801.996 1674.208\n",
      "   990.82     0.   ]]\n"
     ]
    }
   ],
   "source": [
    "distances = np.array([0, 198, 303, 736, 871, 1175, 1475, 1544, 1913, 2448])\n",
    "D = abs((np.tile(distances, (10,1))).T - distances)\n",
    "print(\"2D grid of distances among each city along Route 66:\\n\" + str(D))\n",
    "\n",
    "conversion_factor = 1.852 # from miles to km\n",
    "Dkm = D*conversion_factor\n",
    "print(\"\\n2D grid of distances among each city along Route 66 in km:\\n\" + str(Dkm))"
   ]
  },
  {
   "cell_type": "markdown",
   "metadata": {},
   "source": [
    "7\\. Prime numbers sieve: compute the prime numbers in the 0-N (start with N=99) range with a sieve (mask).\n",
    "  * Check the performances (timeit); how does it scale with N?\n",
    "  * Implement the optimization suggested in the [sieve of Eratosthenes](https://en.wikipedia.org/wiki/Sieve_of_Eratosthenes)"
   ]
  },
  {
   "cell_type": "code",
   "execution_count": 15,
   "metadata": {},
   "outputs": [
    {
     "name": "stdout",
     "output_type": "stream",
     "text": [
      "My prime numbers:\n",
      "[ 1  2  3  5  7 11 13 17 19 23 29 31 37 41 43 47 53 59 61 67 71 73 79 83\n",
      " 89 97]\n",
      "\n",
      "Prime numbers with the sieve of Eratosthenes:\n",
      "[ 2  3  4  5  7 11 13 17 19 23 29 31 37 41 43 47 53 59 61 67 71 73 79 83\n",
      " 89 97]\n",
      "\n",
      "Performance of my_prime_numbers:\n",
      "2.74 ms ± 47 µs per loop (mean ± std. dev. of 7 runs, 100 loops each)\n",
      "\n",
      "Performance of prime_eratosthenes:\n",
      "229 µs ± 1.49 µs per loop (mean ± std. dev. of 7 runs, 1000 loops each)\n",
      "\n",
      "Performace of my_prime_numbers increasing N:\n"
     ]
    },
    {
     "data": {
      "image/png": "[encoded data removed]",
      "text/plain": [
       "<Figure size 432x288 with 1 Axes>"
      ]
     },
     "metadata": {
      "needs_background": "light"
     },
     "output_type": "display_data"
    }
   ],
   "source": [
    "import time\n",
    "\n",
    "def my_prime_numbers(n):\n",
    "    N = len(n)\n",
    "    prime_numbers = []\n",
    "    for i in range(N):\n",
    "        range2loop = min(int(np.ceil(N/2)),n[i])\n",
    "        count = 0\n",
    "        for j in range(1,range2loop):\n",
    "            # Check if the number is prime\n",
    "            if j != 1 and j != n[i] and n[i] % j == 0: \n",
    "                count += 1    \n",
    "        if count == 0:\n",
    "            prime_numbers.append(n[i])\n",
    "            \n",
    "    prime_numbers = np.array(prime_numbers)\n",
    "    return prime_numbers\n",
    "            \n",
    "def prime_eratosthenes(n):\n",
    "    N = len(n)\n",
    "    \n",
    "    # Check if number 1 is present\n",
    "    if n[0] == 1:\n",
    "        n = n[1:len(n)]\n",
    "        N = len(n) # length updating \n",
    "    \n",
    "    survived = list(n) # it contains the numbers that survive\n",
    "    survived_index = 0 # index for the \"survived\" list\n",
    "    deleted = [] # it contains sieved numbers\n",
    "    \n",
    "    while survived_index != len(survived):\n",
    "        deleted = []\n",
    "        sieve = survived[survived_index]\n",
    "        for i in range(sieve+1,len(survived)):\n",
    "            # Find multiples\n",
    "            if survived[i] % sieve == 0:\n",
    "                deleted.append(survived[i])\n",
    "        # Remove deleted elements from survived\n",
    "        survived = [elem for elem in survived if elem not in deleted] \n",
    "        survived_index += 1\n",
    "    \n",
    "    prime_numbers = np.array(survived)\n",
    "    return prime_numbers\n",
    "    \n",
    "    \n",
    "N = 99\n",
    "n = np.linspace(1,99,num=N,dtype=int)\n",
    "\n",
    "pn1 = my_prime_numbers(n)\n",
    "print(\"My prime numbers:\\n\" + str(pn1))\n",
    "\n",
    "pn2 = prime_eratosthenes(n)\n",
    "print(\"\\nPrime numbers with the sieve of Eratosthenes:\\n\" + str(pn2))\n",
    "\n",
    "print(\"\\nPerformance of my_prime_numbers:\")\n",
    "%timeit my_prime_numbers(n)\n",
    "\n",
    "print(\"\\nPerformance of prime_eratosthenes:\")\n",
    "%timeit prime_eratosthenes(n)\n",
    "\n",
    "print(\"\\nPerformace of my_prime_numbers increasing N:\")\n",
    "Nvalues = np.arange(99,1099,200)\n",
    "time_records = np.zeros(len(Nvalues))\n",
    "for i in range(len(Nvalues)):\n",
    "    n = np.linspace(1,Nvalues[i],num=Nvalues[i],dtype=int)\n",
    "    start = time.time()\n",
    "    my_prime_numbers(n)\n",
    "    end = time.time()\n",
    "    time_records[i] = end-start\n",
    "    \n",
    "plt.plot(Nvalues,time_records)\n",
    "plt.title(\"Time vs N\", size = 14)\n",
    "plt.xlabel(\"N: lengths of the vector\", size = 12)\n",
    "plt.ylabel(\"Time\", size = 12)\n",
    "plt.grid(alpha = 0.5)\n",
    "\n",
    "# As we can see from the plot, the time increases exponentially with N"
   ]
  },
  {
   "cell_type": "code",
   "execution_count": null,
   "metadata": {},
   "outputs": [],
   "source": []
  }
 ],
 "metadata": {
  "kernelspec": {
   "display_name": "Python 3",
   "language": "python",
   "name": "python3"
  },
  "language_info": {
   "codemirror_mode": {
    "name": "ipython",
    "version": 3
   },
   "file_extension": ".py",
   "mimetype": "text/x-python",
   "name": "python",
   "nbconvert_exporter": "python",
   "pygments_lexer": "ipython3",
   "version": "3.8.8"
  }
 },
 "nbformat": 4,
 "nbformat_minor": 2
}
