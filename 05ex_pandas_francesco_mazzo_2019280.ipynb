{
 "cells": [
  {
   "cell_type": "markdown",
   "metadata": {},
   "source": [
    "This exercise consists in analyzing a dataset containg timing information from a series of Time-to-Digital-Converters (TDC) implemented in a pair of FPGAs. Each measurement (i.e. each row of the input file) consists of a flag that specifies the type of message ('HEAD', which in this case is always 1), two addresses of the TDC providing the signal ('FPGA' and 'TDC_CHANNEL'), and the timing information ('ORBIT_CNT', 'BX_COUNTER', and 'TDC_MEAS'). Each TDC count corresponds to 25/30 ns, whereas a unit of BX_COUNTER corresponds to 25 ns, and the ORBIT_CNT is increased every 'x' BX_COUNTER. This allows to store the time in a similar way to hours, minutes and seconds."
   ]
  },
  {
   "cell_type": "code",
   "execution_count": 55,
   "metadata": {},
   "outputs": [],
   "source": [
    "# If haven't downloaded it yet, please get the data file with wget\n",
    "#!wget https://www.dropbox.com/s/xvjzaxzz3ysphme/data_000637.txt -P ./data/"
   ]
  },
  {
   "cell_type": "markdown",
   "metadata": {},
   "source": [
    "1\\. Create a Pandas DataFrame reading N rows of the `data/data_000637.txt` dataset. Choose N to be smaller than or equal to the maximum number of rows and larger that 10k (check the documentation)."
   ]
  },
  {
   "cell_type": "code",
   "execution_count": 56,
   "metadata": {},
   "outputs": [
    {
     "data": {
      "text/html": [
       "<div>\n",
       "<style scoped>\n",
       "    .dataframe tbody tr th:only-of-type {\n",
       "        vertical-align: middle;\n",
       "    }\n",
       "\n",
       "    .dataframe tbody tr th {\n",
       "        vertical-align: top;\n",
       "    }\n",
       "\n",
       "    .dataframe thead th {\n",
       "        text-align: right;\n",
       "    }\n",
       "</style>\n",
       "<table border=\"1\" class=\"dataframe\">\n",
       "  <thead>\n",
       "    <tr style=\"text-align: right;\">\n",
       "      <th></th>\n",
       "      <th>HEAD</th>\n",
       "      <th>FPGA</th>\n",
       "      <th>TDC_CHANNEL</th>\n",
       "      <th>ORBIT_CNT</th>\n",
       "      <th>BX_COUNTER</th>\n",
       "      <th>TDC_MEAS</th>\n",
       "    </tr>\n",
       "  </thead>\n",
       "  <tbody>\n",
       "    <tr>\n",
       "      <th>0</th>\n",
       "      <td>1</td>\n",
       "      <td>0</td>\n",
       "      <td>123</td>\n",
       "      <td>3869200167</td>\n",
       "      <td>2374</td>\n",
       "      <td>26</td>\n",
       "    </tr>\n",
       "    <tr>\n",
       "      <th>1</th>\n",
       "      <td>1</td>\n",
       "      <td>0</td>\n",
       "      <td>124</td>\n",
       "      <td>3869200167</td>\n",
       "      <td>2374</td>\n",
       "      <td>27</td>\n",
       "    </tr>\n",
       "    <tr>\n",
       "      <th>2</th>\n",
       "      <td>1</td>\n",
       "      <td>0</td>\n",
       "      <td>63</td>\n",
       "      <td>3869200167</td>\n",
       "      <td>2553</td>\n",
       "      <td>28</td>\n",
       "    </tr>\n",
       "    <tr>\n",
       "      <th>3</th>\n",
       "      <td>1</td>\n",
       "      <td>0</td>\n",
       "      <td>64</td>\n",
       "      <td>3869200167</td>\n",
       "      <td>2558</td>\n",
       "      <td>19</td>\n",
       "    </tr>\n",
       "    <tr>\n",
       "      <th>4</th>\n",
       "      <td>1</td>\n",
       "      <td>0</td>\n",
       "      <td>64</td>\n",
       "      <td>3869200167</td>\n",
       "      <td>2760</td>\n",
       "      <td>25</td>\n",
       "    </tr>\n",
       "    <tr>\n",
       "      <th>...</th>\n",
       "      <td>...</td>\n",
       "      <td>...</td>\n",
       "      <td>...</td>\n",
       "      <td>...</td>\n",
       "      <td>...</td>\n",
       "      <td>...</td>\n",
       "    </tr>\n",
       "    <tr>\n",
       "      <th>149995</th>\n",
       "      <td>1</td>\n",
       "      <td>1</td>\n",
       "      <td>108</td>\n",
       "      <td>3869201660</td>\n",
       "      <td>1085</td>\n",
       "      <td>11</td>\n",
       "    </tr>\n",
       "    <tr>\n",
       "      <th>149996</th>\n",
       "      <td>1</td>\n",
       "      <td>1</td>\n",
       "      <td>103</td>\n",
       "      <td>3869201660</td>\n",
       "      <td>1085</td>\n",
       "      <td>5</td>\n",
       "    </tr>\n",
       "    <tr>\n",
       "      <th>149997</th>\n",
       "      <td>1</td>\n",
       "      <td>1</td>\n",
       "      <td>105</td>\n",
       "      <td>3869201660</td>\n",
       "      <td>1088</td>\n",
       "      <td>19</td>\n",
       "    </tr>\n",
       "    <tr>\n",
       "      <th>149998</th>\n",
       "      <td>1</td>\n",
       "      <td>1</td>\n",
       "      <td>104</td>\n",
       "      <td>3869201660</td>\n",
       "      <td>1095</td>\n",
       "      <td>15</td>\n",
       "    </tr>\n",
       "    <tr>\n",
       "      <th>149999</th>\n",
       "      <td>1</td>\n",
       "      <td>1</td>\n",
       "      <td>106</td>\n",
       "      <td>3869201660</td>\n",
       "      <td>1093</td>\n",
       "      <td>22</td>\n",
       "    </tr>\n",
       "  </tbody>\n",
       "</table>\n",
       "<p>150000 rows × 6 columns</p>\n",
       "</div>"
      ],
      "text/plain": [
       "        HEAD  FPGA  TDC_CHANNEL   ORBIT_CNT  BX_COUNTER  TDC_MEAS\n",
       "0          1     0          123  3869200167        2374        26\n",
       "1          1     0          124  3869200167        2374        27\n",
       "2          1     0           63  3869200167        2553        28\n",
       "3          1     0           64  3869200167        2558        19\n",
       "4          1     0           64  3869200167        2760        25\n",
       "...      ...   ...          ...         ...         ...       ...\n",
       "149995     1     1          108  3869201660        1085        11\n",
       "149996     1     1          103  3869201660        1085         5\n",
       "149997     1     1          105  3869201660        1088        19\n",
       "149998     1     1          104  3869201660        1095        15\n",
       "149999     1     1          106  3869201660        1093        22\n",
       "\n",
       "[150000 rows x 6 columns]"
      ]
     },
     "execution_count": 56,
     "metadata": {},
     "output_type": "execute_result"
    }
   ],
   "source": [
    "import pandas as pd\n",
    "import numpy as np\n",
    "\n",
    "N = 150000\n",
    "file_name = \"./data/data_000637.txt\"\n",
    "data = pd.read_csv(file_name, header = 0,nrows = N)\n",
    "data"
   ]
  },
  {
   "cell_type": "markdown",
   "metadata": {},
   "source": [
    "2\\. Estimate the number of BX in a ORBIT (the value 'x')."
   ]
  },
  {
   "cell_type": "code",
   "execution_count": 57,
   "metadata": {},
   "outputs": [
    {
     "name": "stdout",
     "output_type": "stream",
     "text": [
      "Max of x with 150000 samples: 3564\n"
     ]
    }
   ],
   "source": [
    "orbit = pd.Series(data['ORBIT_CNT'])\n",
    "bx_counter = pd.Series(data['BX_COUNTER'])\n",
    "x = []\n",
    "inf_bx = bx_counter[0]\n",
    "for i in range(0,len(orbit)-1):\n",
    "    change = orbit[i+1]-orbit[i]\n",
    "    if change != 0:\n",
    "        sup_bx = bx_counter[i]\n",
    "        x.append(sup_bx-inf_bx)\n",
    "        inf_bx = bx_counter[i+1]\n",
    "        \n",
    "print(\"Max of x with \" + str(N) + \" samples: \" + str(max(x)+1))\n",
    "\n",
    "# We have to add 1 to max(x) because if we consider a digital timer, after the last sample the count is reset.\n",
    "# For example, if we imagine, a digital clock, after the 59th second the minut clicks. However, a minut is composed\n",
    "# by 60 seconds. For the same reason we have to add 1 to max(x)."
   ]
  },
  {
   "cell_type": "markdown",
   "metadata": {},
   "source": [
    "3\\. Find out the duration of the data taking in hours, minutes and seconds. You can either make an estimate based on the fraction of the measurements (rows) you read, or perform this check precisely by reading the whole dataset."
   ]
  },
  {
   "cell_type": "code",
   "execution_count": 58,
   "metadata": {},
   "outputs": [
    {
     "name": "stdout",
     "output_type": "stream",
     "text": [
      "Elapsed time: 0:00:00.132994\n"
     ]
    }
   ],
   "source": [
    "import datetime as dt\n",
    "\n",
    "M = max(x)+1\n",
    "\n",
    "# Time values for the first sample\n",
    "first_orbit = data.loc[data.index[0],'ORBIT_CNT']\n",
    "first_bx = data.loc[data.index[0],'BX_COUNTER']\n",
    "first_tdc = data.loc[data.index[0],'TDC_MEAS']\n",
    "\n",
    "# Time values for the last sample\n",
    "last_orbit = data.loc[data.index[N-1],'ORBIT_CNT']\n",
    "last_bx = data.loc[data.index[N-1],'BX_COUNTER']\n",
    "last_tdc = data.loc[data.index[N-1],'TDC_MEAS']\n",
    "\n",
    "# Coversion of all values in s\n",
    "first_tot_sec = first_tdc*(25/30)*10**-9 + first_bx*25*10**-9 + M*first_orbit*25*10**-9\n",
    "last_tot_sec = last_tdc*(25/30)*10**-9 + last_bx*25*10**-9 + M*last_orbit*25*10**-9\n",
    "\n",
    "# Computing hours, minutes, seconds\n",
    "elapsed_time = last_tot_sec-first_tot_sec\n",
    "elapsed_time = dt.timedelta(seconds=elapsed_time)\n",
    "print(\"Elapsed time: \" + str(elapsed_time))"
   ]
  },
  {
   "cell_type": "markdown",
   "metadata": {},
   "source": [
    "4\\. Create a new column with the absolute time in ns (as a combination of the other three columns with timing information) since the beginning of the data acquisition."
   ]
  },
  {
   "cell_type": "code",
   "execution_count": 59,
   "metadata": {},
   "outputs": [
    {
     "data": {
      "text/html": [
       "<div>\n",
       "<style scoped>\n",
       "    .dataframe tbody tr th:only-of-type {\n",
       "        vertical-align: middle;\n",
       "    }\n",
       "\n",
       "    .dataframe tbody tr th {\n",
       "        vertical-align: top;\n",
       "    }\n",
       "\n",
       "    .dataframe thead th {\n",
       "        text-align: right;\n",
       "    }\n",
       "</style>\n",
       "<table border=\"1\" class=\"dataframe\">\n",
       "  <thead>\n",
       "    <tr style=\"text-align: right;\">\n",
       "      <th></th>\n",
       "      <th>HEAD</th>\n",
       "      <th>FPGA</th>\n",
       "      <th>TDC_CHANNEL</th>\n",
       "      <th>ORBIT_CNT</th>\n",
       "      <th>BX_COUNTER</th>\n",
       "      <th>TDC_MEAS</th>\n",
       "      <th>TIMENS</th>\n",
       "    </tr>\n",
       "  </thead>\n",
       "  <tbody>\n",
       "    <tr>\n",
       "      <th>0</th>\n",
       "      <td>1</td>\n",
       "      <td>0</td>\n",
       "      <td>123</td>\n",
       "      <td>3869200167</td>\n",
       "      <td>2374</td>\n",
       "      <td>26</td>\n",
       "      <td>0.000000e+00</td>\n",
       "    </tr>\n",
       "    <tr>\n",
       "      <th>1</th>\n",
       "      <td>1</td>\n",
       "      <td>0</td>\n",
       "      <td>124</td>\n",
       "      <td>3869200167</td>\n",
       "      <td>2374</td>\n",
       "      <td>27</td>\n",
       "      <td>8.125000e-01</td>\n",
       "    </tr>\n",
       "    <tr>\n",
       "      <th>2</th>\n",
       "      <td>1</td>\n",
       "      <td>0</td>\n",
       "      <td>63</td>\n",
       "      <td>3869200167</td>\n",
       "      <td>2553</td>\n",
       "      <td>28</td>\n",
       "      <td>4.476625e+03</td>\n",
       "    </tr>\n",
       "    <tr>\n",
       "      <th>3</th>\n",
       "      <td>1</td>\n",
       "      <td>0</td>\n",
       "      <td>64</td>\n",
       "      <td>3869200167</td>\n",
       "      <td>2558</td>\n",
       "      <td>19</td>\n",
       "      <td>4.594125e+03</td>\n",
       "    </tr>\n",
       "    <tr>\n",
       "      <th>4</th>\n",
       "      <td>1</td>\n",
       "      <td>0</td>\n",
       "      <td>64</td>\n",
       "      <td>3869200167</td>\n",
       "      <td>2760</td>\n",
       "      <td>25</td>\n",
       "      <td>9.649125e+03</td>\n",
       "    </tr>\n",
       "    <tr>\n",
       "      <th>...</th>\n",
       "      <td>...</td>\n",
       "      <td>...</td>\n",
       "      <td>...</td>\n",
       "      <td>...</td>\n",
       "      <td>...</td>\n",
       "      <td>...</td>\n",
       "      <td>...</td>\n",
       "    </tr>\n",
       "    <tr>\n",
       "      <th>149995</th>\n",
       "      <td>1</td>\n",
       "      <td>1</td>\n",
       "      <td>108</td>\n",
       "      <td>3869201660</td>\n",
       "      <td>1085</td>\n",
       "      <td>11</td>\n",
       "      <td>1.329941e+08</td>\n",
       "    </tr>\n",
       "    <tr>\n",
       "      <th>149996</th>\n",
       "      <td>1</td>\n",
       "      <td>1</td>\n",
       "      <td>103</td>\n",
       "      <td>3869201660</td>\n",
       "      <td>1085</td>\n",
       "      <td>5</td>\n",
       "      <td>1.329941e+08</td>\n",
       "    </tr>\n",
       "    <tr>\n",
       "      <th>149997</th>\n",
       "      <td>1</td>\n",
       "      <td>1</td>\n",
       "      <td>105</td>\n",
       "      <td>3869201660</td>\n",
       "      <td>1088</td>\n",
       "      <td>19</td>\n",
       "      <td>1.329941e+08</td>\n",
       "    </tr>\n",
       "    <tr>\n",
       "      <th>149998</th>\n",
       "      <td>1</td>\n",
       "      <td>1</td>\n",
       "      <td>104</td>\n",
       "      <td>3869201660</td>\n",
       "      <td>1095</td>\n",
       "      <td>15</td>\n",
       "      <td>1.329943e+08</td>\n",
       "    </tr>\n",
       "    <tr>\n",
       "      <th>149999</th>\n",
       "      <td>1</td>\n",
       "      <td>1</td>\n",
       "      <td>106</td>\n",
       "      <td>3869201660</td>\n",
       "      <td>1093</td>\n",
       "      <td>22</td>\n",
       "      <td>1.329943e+08</td>\n",
       "    </tr>\n",
       "  </tbody>\n",
       "</table>\n",
       "<p>150000 rows × 7 columns</p>\n",
       "</div>"
      ],
      "text/plain": [
       "        HEAD  FPGA  TDC_CHANNEL   ORBIT_CNT  BX_COUNTER  TDC_MEAS  \\\n",
       "0          1     0          123  3869200167        2374        26   \n",
       "1          1     0          124  3869200167        2374        27   \n",
       "2          1     0           63  3869200167        2553        28   \n",
       "3          1     0           64  3869200167        2558        19   \n",
       "4          1     0           64  3869200167        2760        25   \n",
       "...      ...   ...          ...         ...         ...       ...   \n",
       "149995     1     1          108  3869201660        1085        11   \n",
       "149996     1     1          103  3869201660        1085         5   \n",
       "149997     1     1          105  3869201660        1088        19   \n",
       "149998     1     1          104  3869201660        1095        15   \n",
       "149999     1     1          106  3869201660        1093        22   \n",
       "\n",
       "              TIMENS  \n",
       "0       0.000000e+00  \n",
       "1       8.125000e-01  \n",
       "2       4.476625e+03  \n",
       "3       4.594125e+03  \n",
       "4       9.649125e+03  \n",
       "...              ...  \n",
       "149995  1.329941e+08  \n",
       "149996  1.329941e+08  \n",
       "149997  1.329941e+08  \n",
       "149998  1.329943e+08  \n",
       "149999  1.329943e+08  \n",
       "\n",
       "[150000 rows x 7 columns]"
      ]
     },
     "execution_count": 59,
     "metadata": {},
     "output_type": "execute_result"
    }
   ],
   "source": [
    "def absolute_time(data):\n",
    "    result = []\n",
    "    \n",
    "    # Beginning in ns\n",
    "    start = data.loc[data.index[0],'ORBIT_CNT']*M*25 + data.loc[data.index[0],'BX_COUNTER']*25 + data.loc[data.index[0],'TDC_MEAS']*(25/30)\n",
    "    for i in range(len(data)):\n",
    "        # Current time\n",
    "        curr = data.loc[data.index[i],'ORBIT_CNT']*M*25 + data.loc[data.index[i],'BX_COUNTER']*25 + data.loc[data.index[i],'TDC_MEAS']*(25/30)\n",
    "        \n",
    "        # Store the time difference\n",
    "        result.append(curr-start)\n",
    "        \n",
    "    return result\n",
    "\n",
    "data['TIMENS'] = absolute_time(data)\n",
    "data"
   ]
  },
  {
   "cell_type": "markdown",
   "metadata": {},
   "source": [
    "5\\. Use the `.groupby()` method to find out the noisy channels, i.e. the TDC channels with most counts (print to screen the top 3 and the corresponding counts)"
   ]
  },
  {
   "cell_type": "code",
   "execution_count": 60,
   "metadata": {},
   "outputs": [
    {
     "data": {
      "text/plain": [
       "TDC_CHANNEL\n",
       "139    12478\n",
       "64      7452\n",
       "63      7329\n",
       "dtype: int64"
      ]
     },
     "execution_count": 60,
     "metadata": {},
     "output_type": "execute_result"
    }
   ],
   "source": [
    "data.groupby('TDC_CHANNEL').size().nlargest(3)"
   ]
  },
  {
   "cell_type": "markdown",
   "metadata": {},
   "source": [
    "6\\. Count the number of non-empty orbits (i.e. the number of orbits with at least one hit). Count also the number of unique orbits with at least one measurement from TDC_CHANNEL=139."
   ]
  },
  {
   "cell_type": "code",
   "execution_count": 61,
   "metadata": {},
   "outputs": [
    {
     "name": "stdout",
     "output_type": "stream",
     "text": [
      "Number of non-empty orbits:  150000\n",
      "Number of unique orbits with at least one measurement from TDC_CHANNEL=139:  1490\n"
     ]
    }
   ],
   "source": [
    "# Number of non-empty orbits.\n",
    "non_empty_orbits = data['ORBIT_CNT'].count()\n",
    "print(\"Number of non-empty orbits: \",non_empty_orbits)\n",
    "\n",
    "# Number of unique orbits with at least one measurement from TDC_CHANNEL=139.\n",
    "orbits_channel_139 = data['ORBIT_CNT'].where(data['TDC_CHANNEL'] == 139).drop_duplicates(keep='first').count()\n",
    "print(\"Number of unique orbits with at least one measurement from TDC_CHANNEL=139: \",orbits_channel_139)"
   ]
  },
  {
   "cell_type": "markdown",
   "metadata": {},
   "source": [
    "7\\. **Optional:** Make two occupancy plots (one for each FPGA), i.e. plot the number of counts per TDC channel"
   ]
  },
  {
   "cell_type": "code",
   "execution_count": 62,
   "metadata": {},
   "outputs": [
    {
     "data": {
      "image/png": "[encoded data removed]",
      "text/plain": [
       "<Figure size 864x576 with 2 Axes>"
      ]
     },
     "metadata": {
      "needs_background": "light"
     },
     "output_type": "display_data"
    }
   ],
   "source": [
    "import matplotlib.pyplot as plt\n",
    "\n",
    "ax = data.hist(column = 'TDC_CHANNEL', by = 'FPGA', bins = 20, figsize=(12,8), color='#86bf91', zorder=2, rwidth=0.9)\n",
    "\n",
    "ax[0].set_xlabel(\"TDC_CHANNEL\", size = 12)\n",
    "ax[0].set_ylabel(\"Counts\", size = 12)\n",
    "ax[0].set_title(\"FPGA0\", size = 14)\n",
    "ax[0].grid(alpha = 0.5)\n",
    "\n",
    "ax[1].set_xlabel(\"TDC_CHANNEL\", size = 12)\n",
    "ax[1].set_ylabel(\"Counts\", size = 12)\n",
    "ax[1].set_title(\"FPGA1\", size = 14)\n",
    "ax[1].grid(alpha = 0.5)"
   ]
  },
  {
   "cell_type": "code",
   "execution_count": null,
   "metadata": {},
   "outputs": [],
   "source": []
  }
 ],
 "metadata": {
  "kernelspec": {
   "display_name": "Python 3",
   "language": "python",
   "name": "python3"
  },
  "language_info": {
   "codemirror_mode": {
    "name": "ipython",
    "version": 3
   },
   "file_extension": ".py",
   "mimetype": "text/x-python",
   "name": "python",
   "nbconvert_exporter": "python",
   "pygments_lexer": "ipython3",
   "version": "3.8.8"
  }
 },
 "nbformat": 4,
 "nbformat_minor": 2
}
