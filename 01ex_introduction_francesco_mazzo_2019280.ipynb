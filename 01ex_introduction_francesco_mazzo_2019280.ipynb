{
 "cells": [
  {
   "cell_type": "markdown",
   "metadata": {},
   "source": [
    "1. The HelloWorld replacement\n",
    "\n",
    "a) Write a program that prints the numbers from 1 to 100. But for multiples of three print \"Hello\" instead of the number and for the multiples of five print \"World\". For numbers which are multiples of both three and five print \"HelloWorld\".\n",
    "\n",
    "b) Put the result in a tuple and substitute \"Hello\" with \"Python\" and \"World\" with \"Works\"."
   ]
  },
  {
   "cell_type": "code",
   "execution_count": 1,
   "metadata": {},
   "outputs": [
    {
     "name": "stdout",
     "output_type": "stream",
     "text": [
      "1\n",
      "2\n",
      "Hello\n",
      "4\n",
      "World\n",
      "Hello\n",
      "7\n",
      "8\n",
      "Hello\n",
      "World\n",
      "11\n",
      "Hello\n",
      "13\n",
      "14\n",
      "Hello World\n",
      "16\n",
      "17\n",
      "Hello\n",
      "19\n",
      "World\n",
      "Hello\n",
      "22\n",
      "23\n",
      "Hello\n",
      "World\n",
      "26\n",
      "Hello\n",
      "28\n",
      "29\n",
      "Hello World\n",
      "31\n",
      "32\n",
      "Hello\n",
      "34\n",
      "World\n",
      "Hello\n",
      "37\n",
      "38\n",
      "Hello\n",
      "World\n",
      "41\n",
      "Hello\n",
      "43\n",
      "44\n",
      "Hello World\n",
      "46\n",
      "47\n",
      "Hello\n",
      "49\n",
      "World\n",
      "Hello\n",
      "52\n",
      "53\n",
      "Hello\n",
      "World\n",
      "56\n",
      "Hello\n",
      "58\n",
      "59\n",
      "Hello World\n",
      "61\n",
      "62\n",
      "Hello\n",
      "64\n",
      "World\n",
      "Hello\n",
      "67\n",
      "68\n",
      "Hello\n",
      "World\n",
      "71\n",
      "Hello\n",
      "73\n",
      "74\n",
      "Hello World\n",
      "76\n",
      "77\n",
      "Hello\n",
      "79\n",
      "World\n",
      "Hello\n",
      "82\n",
      "83\n",
      "Hello\n",
      "World\n",
      "86\n",
      "Hello\n",
      "88\n",
      "89\n",
      "Hello World\n",
      "91\n",
      "92\n",
      "Hello\n",
      "94\n",
      "World\n",
      "Hello\n",
      "97\n",
      "98\n",
      "Hello\n",
      "World\n",
      " \n",
      "(1, 2, 'Python', 4, 'Works', 'Python', 7, 8, 'Python', 'Works', 11, 'Python', 13, 14, 'Python Works', 16, 17, 'Python', 19, 'Works', 'Python', 22, 23, 'Python', 'Works', 26, 'Python', 28, 29, 'Python Works', 31, 32, 'Python', 34, 'Works', 'Python', 37, 38, 'Python', 'Works', 41, 'Python', 43, 44, 'Python Works', 46, 47, 'Python', 49, 'Works', 'Python', 52, 53, 'Python', 'Works', 56, 'Python', 58, 59, 'Python Works', 61, 62, 'Python', 64, 'Works', 'Python', 67, 68, 'Python', 'Works', 71, 'Python', 73, 74, 'Python Works', 76, 77, 'Python', 79, 'Works', 'Python', 82, 83, 'Python', 'Works', 86, 'Python', 88, 89, 'Python Works', 91, 92, 'Python', 94, 'Works', 'Python', 97, 98, 'Python', 'Works')\n"
     ]
    }
   ],
   "source": [
    "a = []\n",
    "i = 1;\n",
    "while i < 101:\n",
    "    if i % 3 == 0 and i % 5 == 0:\n",
    "        print('Hello World')\n",
    "        a.insert(i,'Python Works')\n",
    "    elif i % 3 == 0:\n",
    "        print('Hello')\n",
    "        a.insert(i,'Python')\n",
    "    elif i % 5 == 0:\n",
    "        print('World')\n",
    "        a.insert(i,'Works')\n",
    "    else:\n",
    "        print(i)\n",
    "        a.insert(i,i)\n",
    "    i += 1\n",
    "\n",
    "#test of the program\n",
    "a = tuple(a)\n",
    "print(\" \")\n",
    "print(a)"
   ]
  },
  {
   "cell_type": "markdown",
   "metadata": {},
   "source": [
    "2\\. The swap function\n",
    "\n",
    "Write a function that swap the values of two input variables x and y (whatever the type). Try to do that also without a temporary variable"
   ]
  },
  {
   "cell_type": "code",
   "execution_count": 2,
   "metadata": {},
   "outputs": [
    {
     "name": "stdout",
     "output_type": "stream",
     "text": [
      "ciao\n",
      "10\n"
     ]
    }
   ],
   "source": [
    "def swap(x,y):\n",
    "    x,y = y,x\n",
    "    return x,y\n",
    "\n",
    "#test of the program\n",
    "a = 10\n",
    "b = \"ciao\"\n",
    "a,b = swap(a,b)\n",
    "print(a)\n",
    "print(b)"
   ]
  },
  {
   "cell_type": "markdown",
   "metadata": {},
   "source": [
    "3\\. Computing the distance\n",
    "\n",
    "Write a function that calculates and returns the euclidean distance between two points *u* and *v*, where *u* and *v* are both 2-tuples *(x,y)*. For example, if *u=(3,0)* and *v=(0,4)*, the function should return 5"
   ]
  },
  {
   "cell_type": "code",
   "execution_count": 3,
   "metadata": {},
   "outputs": [
    {
     "name": "stdout",
     "output_type": "stream",
     "text": [
      "5.0\n"
     ]
    }
   ],
   "source": [
    "import math #it is needed for the function sqrt\n",
    "\n",
    "def distance(u,v):\n",
    "    d = math.sqrt(pow((u[0]-v[0]),2)+pow((u[1]-v[1]),2))\n",
    "    return d\n",
    "\n",
    "#test of the program\n",
    "u = (3,0)\n",
    "v = (0,4)\n",
    "\n",
    "d = distance(u,v)\n",
    "print(d)"
   ]
  },
  {
   "cell_type": "markdown",
   "metadata": {},
   "source": [
    "4\\. Counting letters\n",
    "\n",
    "Write a program to calculate the number of times each character occurs in a given string *s*. Ignore differences in capitalization"
   ]
  },
  {
   "cell_type": "code",
   "execution_count": 4,
   "metadata": {},
   "outputs": [
    {
     "name": "stdout",
     "output_type": "stream",
     "text": [
      "w 4\n",
      "r 19\n",
      "i 12\n",
      "t 19\n",
      "e 20\n",
      "  41\n",
      "a 7\n",
      "p 8\n",
      "o 15\n",
      "g 1\n",
      "m 8\n",
      "h 11\n",
      "n 10\n",
      "s 7\n",
      "u 7\n",
      "b 5\n",
      "f 10\n",
      "1 2\n",
      "0 2\n",
      ". 3\n",
      "l 12\n",
      "d 5\n",
      "v 2\n",
      "c 1\n"
     ]
    }
   ],
   "source": [
    "s = \"Write a program that prints the numbers from 1 to 100. \\\n",
    "But for multiples of three print Hello instead of the number and for the multiples of five print World. \\\n",
    "For numbers which are multiples of both three and five print HelloWorld.\"\n",
    "\n",
    "s = s.lower() #it converts the string s to a string containing all lowercase letters\n",
    "s = list(s)\n",
    "\n",
    "characters = [] #it contains the characters but repeated only once\n",
    "occurrence = [] #it counts how many times a characters occur in the string s\n",
    "k = 0 # index for the \"characters\" and \"characters\" list\n",
    "for i in range(0,len(s)):\n",
    "    tmp = s[i]\n",
    "    varBool = False #if this variable is set to True means that a character is repeated in the string\n",
    "    for j in range(0,len(characters)):\n",
    "        if tmp == characters[j]:\n",
    "            varBool = True\n",
    "    if varBool == False:\n",
    "        characters.insert(k,tmp)\n",
    "        occurrence.insert(k,s.count(s[i]))\n",
    "        print(str(characters[k]) + \" \" + str(occurrence[k]))\n",
    "        k +=1"
   ]
  },
  {
   "cell_type": "markdown",
   "metadata": {},
   "source": [
    "5\\. Isolating the unique\n",
    "\n",
    "Write a function that determines and count the unique numbers in the list:"
   ]
  },
  {
   "cell_type": "code",
   "execution_count": 5,
   "metadata": {},
   "outputs": [
    {
     "name": "stdout",
     "output_type": "stream",
     "text": [
      "[58, 74, 96, 64, 10, 24, 19, 33, 86, 99, 18, 47, 88, 55, 54, 8, 79, 81, 57, 37, 1, 9, 95, 90, 98, 39, 16, 82, 92, 41, 30, 94, 5, 72, 87, 75, 53]\n"
     ]
    }
   ],
   "source": [
    "def unique(l):\n",
    "    uniqueList = [] #it contains the numbers that are unique in the list l\n",
    "    k = 0 #index for the list \"uniqueList\"\n",
    "    for i in range(0,len(l)):\n",
    "        occurrence = l.count(l[i]) #it counts the repetitions\n",
    "        if occurrence == 1:\n",
    "            uniqueList.insert(k,l[i])\n",
    "            k +=1\n",
    "    return uniqueList\n",
    "\n",
    "#test of the program\n",
    "l = [36, 45, 58, 3, 74, 96, 64, 45, 31, 10, 24, 19, 33, 86, 99, 18, 63, 70, 85,\n",
    " 85, 63, 47, 56, 42, 70, 84, 88, 55, 20, 54, 8, 56, 51, 79, 81, 57, 37, 91,\n",
    " 1, 84, 84, 36, 66, 9, 89, 50, 42, 91, 50, 95, 90, 98, 39, 16, 82, 31, 92, 41,\n",
    " 45, 30, 66, 70, 34, 85, 94, 5, 3, 36, 72, 91, 84, 34, 87, 75, 53, 51, 20, 89, 51, 20]\n",
    "\n",
    "uniqueNumbers = unique(l)\n",
    "print(uniqueNumbers)"
   ]
  },
  {
   "cell_type": "markdown",
   "metadata": {},
   "source": [
    "Do the same without using user-defined functions, but exploiting only the Python data structures."
   ]
  },
  {
   "cell_type": "code",
   "execution_count": 6,
   "metadata": {},
   "outputs": [
    {
     "name": "stdout",
     "output_type": "stream",
     "text": [
      "{1: 1, 3: 2, 5: 1, 8: 1, 9: 1, 10: 1, 16: 1, 18: 1, 19: 1, 20: 3, 24: 1, 30: 1, 31: 2, 33: 1, 34: 2, 36: 3, 37: 1, 39: 1, 41: 1, 42: 2, 45: 3, 47: 1, 50: 2, 51: 3, 53: 1, 54: 1, 55: 1, 56: 2, 57: 1, 58: 1, 63: 2, 64: 1, 66: 2, 70: 3, 72: 1, 74: 1, 75: 1, 79: 1, 81: 1, 82: 1, 84: 4, 85: 3, 86: 1, 87: 1, 88: 1, 89: 2, 90: 1, 91: 3, 92: 1, 94: 1, 95: 1, 96: 1, 98: 1, 99: 1}\n"
     ]
    }
   ],
   "source": [
    "#method using the Python data structures\n",
    "unique_list = list(set(l)) #it contains all values only once \n",
    "d = {} #values correspod to the values in the list l while keys indicate how many times a certain value is repeated in the list l\n",
    "for i in range(0,len(unique_list)):\n",
    "    occurrence = l.count(unique_list[i])\n",
    "    d.update({unique_list[i]:occurrence})    \n",
    "print(d)"
   ]
  },
  {
   "cell_type": "markdown",
   "metadata": {},
   "source": [
    "6\\. Combination of functions\n",
    "\n",
    "Write two functions - one that returns the square of a number, and one that returns the cube. Now write a third function that returns the number raised to the 6th power using the two previous functions."
   ]
  },
  {
   "cell_type": "code",
   "execution_count": 7,
   "metadata": {},
   "outputs": [
    {
     "name": "stdout",
     "output_type": "stream",
     "text": [
      "729\n"
     ]
    }
   ],
   "source": [
    "def square(x): #square function\n",
    "    return pow(x,2)\n",
    "\n",
    "def cube(x): #cube function\n",
    "    return pow(x,3)\n",
    "\n",
    "def sixthPower(x): #it combines the previous two functions\n",
    "    return cube(square(x))\n",
    "\n",
    "#test of the program\n",
    "x = 3\n",
    "print(sixthPower(x))"
   ]
  },
  {
   "cell_type": "markdown",
   "metadata": {},
   "source": [
    "7\\. Cubes\n",
    "\n",
    "Create a list of the cubes of x for x in *[0, 10]* using:\n",
    "\n",
    "a) a for loop\n",
    "\n",
    "b) a list comprehension"
   ]
  },
  {
   "cell_type": "code",
   "execution_count": 8,
   "metadata": {},
   "outputs": [
    {
     "name": "stdout",
     "output_type": "stream",
     "text": [
      "[0, 1, 8, 27, 64, 125, 216, 343, 512, 729, 1000]\n",
      "[0, 1, 8, 27, 64, 125, 216, 343, 512, 729, 1000]\n"
     ]
    }
   ],
   "source": [
    "#Exercise using the for loop\n",
    "forCubeList = [] \n",
    "for i in range(0,11):\n",
    "    forCubeList.insert(i,pow(i,3))\n",
    "\n",
    "#test of the program\n",
    "print(forCubeList)\n",
    "\n",
    "#Exercise using the comprehensive list\n",
    "cubeCompList = [pow(i,3) for i in range(0,11)] #syntax: expression for item in list\n",
    "\n",
    "#test of the program\n",
    "print(cubeCompList)"
   ]
  },
  {
   "cell_type": "markdown",
   "metadata": {},
   "source": [
    "8\\. Nested list comprehension\n",
    "\n",
    "A Pythagorean triple is an integer solution to the Pythagorean theorem $a^2+b^2=c^2$. The first Pythagorean triple is (3,4,5). Find and put in a tuple all unique Pythagorean triples for the positive integers a, b and c less than 100."
   ]
  },
  {
   "cell_type": "code",
   "execution_count": 9,
   "metadata": {},
   "outputs": [
    {
     "name": "stdout",
     "output_type": "stream",
     "text": [
      "[(3, 4, 5), (8, 6, 10), (5, 12, 13), (15, 8, 17), (12, 16, 20), (7, 24, 25), (24, 10, 26), (21, 20, 29), (16, 30, 34), (9, 40, 41), (35, 12, 37), (32, 24, 40), (27, 36, 45), (20, 48, 52), (11, 60, 61), (48, 14, 50), (45, 28, 53), (40, 42, 58), (33, 56, 65), (24, 70, 74), (13, 84, 85), (63, 16, 65), (60, 32, 68), (55, 48, 73), (48, 64, 80), (39, 80, 89), (80, 18, 82), (77, 36, 85), (72, 54, 90), (65, 72, 97)]\n"
     ]
    }
   ],
   "source": [
    "pythagoreanTripleList = [] #it contains the tuble containing the Pythagorean triple\n",
    "k = 0 #index for the list \"pythagoreanTripleList\"\n",
    "for m in range(0,101): #it starts from 4 because the first trible is already provided\n",
    "    for n in range(0,101):\n",
    "        a = pow(m,2)-pow(n,2)\n",
    "        b = 2*m*n\n",
    "        c = pow(m,2)+pow(n,2)\n",
    "        if a > 0 and b > 0 and c < 100 and (pow(a,2)+pow(b,2) == pow(c,2)):\n",
    "            tripleTupla = (a,int(b),int(c))\n",
    "            pythagoreanTripleList.insert(k,tripleTupla)\n",
    "            k += 1\n",
    "\n",
    "#test of the program\n",
    "print(pythagoreanTripleList)"
   ]
  },
  {
   "cell_type": "markdown",
   "metadata": {},
   "source": [
    "9\\. Normalization\n",
    "\n",
    "Write a function that takes a tuple of numbers and returns it with the entries normalized to one"
   ]
  },
  {
   "cell_type": "code",
   "execution_count": 10,
   "metadata": {},
   "outputs": [
    {
     "name": "stdout",
     "output_type": "stream",
     "text": [
      "(0.5773502691896258, 0.5773502691896258, 0.5773502691896258)\n"
     ]
    }
   ],
   "source": [
    "def normFunction(v):\n",
    "    v = list(v) #transformation from tuple to list\n",
    "    squareSum = 0\n",
    "    for i in range(0, len(v)):\n",
    "        squareSum += pow(v[i],2)\n",
    "    norm = pow(squareSum,0.5)\n",
    "    for i in range(0,len(v)):\n",
    "        v[i] = v[i]/norm\n",
    "    v = tuple(v)\n",
    "    return v\n",
    "\n",
    "#test of the function\n",
    "a = (2,2,2)\n",
    "n = normFunction(a)\n",
    "print(n)"
   ]
  },
  {
   "cell_type": "code",
   "execution_count": null,
   "metadata": {},
   "outputs": [],
   "source": []
  }
 ],
 "metadata": {
  "kernelspec": {
   "display_name": "Python 3",
   "language": "python",
   "name": "python3"
  },
  "language_info": {
   "codemirror_mode": {
    "name": "ipython",
    "version": 3
   },
   "file_extension": ".py",
   "mimetype": "text/x-python",
   "name": "python",
   "nbconvert_exporter": "python",
   "pygments_lexer": "ipython3",
   "version": "3.8.8"
  }
 },
 "nbformat": 4,
 "nbformat_minor": 2
}
