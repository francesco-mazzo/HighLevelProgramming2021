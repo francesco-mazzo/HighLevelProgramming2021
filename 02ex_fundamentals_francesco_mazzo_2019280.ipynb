{
 "cells": [
  {
   "cell_type": "markdown",
   "metadata": {},
   "source": [
    "1. Write the following expressions using the list comprehension"
   ]
  },
  {
   "cell_type": "code",
   "execution_count": 1,
   "metadata": {},
   "outputs": [
    {
     "name": "stdout",
     "output_type": "stream",
     "text": [
      "[(0, 0), (0, 1), (0, 2), (0, 3), (1, 0), (1, 1), (1, 2), (1, 3), (2, 0), (2, 1), (2, 2), (2, 3)]\n",
      "[1, 9, 25, 49, 81]\n"
     ]
    }
   ],
   "source": [
    "# 1\n",
    "ans = []\n",
    "for i in range(3):\n",
    "    for j in range(4):\n",
    "        ans.append((i, j))\n",
    "print(ans)\n",
    "\n",
    "# 2\n",
    "ans = map(lambda x: x * x, filter(lambda x: x % 2 == 1, range(10)))\n",
    "print(list(ans))"
   ]
  },
  {
   "cell_type": "code",
   "execution_count": 2,
   "metadata": {},
   "outputs": [
    {
     "name": "stdout",
     "output_type": "stream",
     "text": [
      "[(0, 0), (0, 1), (0, 2), (0, 3), (1, 0), (1, 1), (1, 2), (1, 3), (2, 0), (2, 1), (2, 2), (2, 3)]\n",
      "[1, 9, 25, 49, 81]\n"
     ]
    }
   ],
   "source": [
    "# 1\n",
    "ansListCompr = []\n",
    "[ansListCompr.append((i, j)) for i in range(3) for j in range(4)]\n",
    "print(ansListCompr)\n",
    "\n",
    "# 2\n",
    "ansListCompr = []\n",
    "[ansListCompr.append(pow(i,2)) for i in range(10) if i % 2 == 1]\n",
    "print(ansListCompr)"
   ]
  },
  {
   "cell_type": "markdown",
   "metadata": {},
   "source": [
    "2\\. Convert the function $f$ into a function that doesn't use global variables and that does not modify the original list"
   ]
  },
  {
   "cell_type": "code",
   "execution_count": 3,
   "metadata": {},
   "outputs": [
    {
     "name": "stdout",
     "output_type": "stream",
     "text": [
      "[1, 2, 3, 0, 1, 2, 3, 4]\n",
      "[1, 2, 3, 0, 1, 2, 3, 4]\n"
     ]
    }
   ],
   "source": [
    "x = 5\n",
    "def f(alist):\n",
    "    for i in range(x):\n",
    "         alist.append(i)\n",
    "    return alist\n",
    "\n",
    "alist = [1,2,3]\n",
    "ans = f(alist)\n",
    "print(ans)\n",
    "print(alist) # alist has been changed!"
   ]
  },
  {
   "cell_type": "code",
   "execution_count": 4,
   "metadata": {
    "scrolled": true
   },
   "outputs": [
    {
     "name": "stdout",
     "output_type": "stream",
     "text": [
      "[1, 2, 3, 0, 1, 2, 3, 4]\n",
      "[1, 2, 3, 0, 1, 2, 3, 4]\n"
     ]
    }
   ],
   "source": [
    "def f_no_modify(alist_not_modified):\n",
    "    for i in range(x):\n",
    "        list_not_modified = alist_not_modified # a new object is created\n",
    "        list_not_modified.append(i)\n",
    "    return list_not_modified\n",
    "\n",
    "list_not_modified = [1,2,3]\n",
    "ans = f_no_modify(list_not_modified)\n",
    "print(ans)\n",
    "print(list_not_modified) # list_not_modified has not been changed"
   ]
  },
  {
   "cell_type": "markdown",
   "metadata": {},
   "source": [
    "3\\. Write a `decorator` hello that makes every wrapped function print “Hello!”, i.e. something like:\n",
    "\n",
    "```python\n",
    "@hello\n",
    "def square(x):\n",
    "    return x*x\n",
    "```\n",
    "\n"
   ]
  },
  {
   "cell_type": "code",
   "execution_count": 5,
   "metadata": {},
   "outputs": [
    {
     "name": "stdout",
     "output_type": "stream",
     "text": [
      "Hello\n",
      "Hello\n"
     ]
    }
   ],
   "source": [
    "def my_decorator(func):\n",
    "    def wrapper(arg1):\n",
    "        print(\"Hello\")\n",
    "        func(arg1)\n",
    "        print(\"Hello\")\n",
    "    return wrapper\n",
    "\n",
    "@my_decorator\n",
    "def square(x):\n",
    "    a = x*x\n",
    "    # running print(a) we can check that the decorator works\n",
    "    #print(a)\n",
    "    return a\n",
    "\n",
    "#test\n",
    "square(2)"
   ]
  },
  {
   "cell_type": "markdown",
   "metadata": {},
   "source": [
    "4\\. Write the factorial function in two different ways, so that it a) does and b) does not use recursion."
   ]
  },
  {
   "cell_type": "code",
   "execution_count": 6,
   "metadata": {},
   "outputs": [
    {
     "name": "stdout",
     "output_type": "stream",
     "text": [
      "[1, 1, 2, 6, 24, 120, 720, 5040, 40320, 362880]\n",
      "[1, 1, 2, 6, 24, 120, 720, 5040, 40320, 362880]\n",
      "Time check:\n",
      "2.06 µs ± 181 ns per loop (mean ± std. dev. of 7 runs, 1000000 loops each)\n",
      "1.44 µs ± 129 ns per loop (mean ± std. dev. of 7 runs, 1000000 loops each)\n"
     ]
    }
   ],
   "source": [
    "# with recorsion\n",
    "def factorial1(n):\n",
    "    # base case\n",
    "    if n ==0 or n ==1:\n",
    "        return 1\n",
    "    # recursive case\n",
    "    else:\n",
    "        return n*factorial1(n-1)\n",
    "    \n",
    "print([factorial1(i) for i in range(10)])\n",
    "\n",
    "# without recursion\n",
    "def factorial2(n):\n",
    "    if n ==0 or n ==1:\n",
    "        return 1\n",
    "    else:\n",
    "        factorial = 1\n",
    "        for i in range(n-1):\n",
    "            factorial = factorial*(n-i) \n",
    "        return factorial\n",
    "\n",
    "print([factorial2(i) for i in range(10)])\n",
    "\n",
    "# time check\n",
    "print('Time check:')\n",
    "%timeit factorial1(10)\n",
    "%timeit factorial2(10)"
   ]
  },
  {
   "cell_type": "markdown",
   "metadata": {},
   "source": [
    "5\\. Use HOFs (zip in particular) to compute the weight of a circle, a disk and a sphere, assuming different radii and different densities:\n",
    "\n",
    "```python\n",
    "densities = {\"Al\" : [0.5, 1, 2], \"Fe\" : [3, 4, 5], \"Pb\" : [15, 20, 30]}\n",
    "radii = [1, 2, 3]\n",
    "```\n",
    "\n",
    "where the entries of the dictionary's values are the linear, superficial and volumetric densities of the materials respectively.\n",
    "\n",
    "Subsequently, define a list using a comprehension with three lambda functions that compute the circumference, the area and the volume for a given radius.\n"
   ]
  },
  {
   "cell_type": "code",
   "execution_count": 7,
   "metadata": {},
   "outputs": [
    {
     "name": "stdout",
     "output_type": "stream",
     "text": [
      "Radius: 1\n",
      "Al: circle 3.14 disk 3.14 sphere 8.38\n",
      "Fe: circle 18.85 disk 12.57 sphere 20.94\n",
      "Pb: circle 94.25 disk 62.83 sphere 125.66\n",
      "Radius: 2\n",
      "Al: circle 6.28 disk 12.57 sphere 67.02\n",
      "Fe: circle 37.70 disk 50.27 sphere 167.55\n",
      "Pb: circle 188.50 disk 251.33 sphere 1005.31\n",
      "Radius: 3\n",
      "Al: circle 9.42 disk 28.27 sphere 226.19\n",
      "Fe: circle 56.55 disk 113.10 sphere 565.49\n",
      "Pb: circle 282.74 disk 565.49 sphere 3392.92\n",
      " \n",
      "Radii:    1\n",
      "Circumference: 6.28\n",
      "Area: 3.14\n",
      "Volume: 4.19\n",
      "Radii:    2\n",
      "Circumference: 12.57\n",
      "Area: 12.57\n",
      "Volume: 33.51\n",
      "Radii:    3\n",
      "Circumference: 18.85\n",
      "Area: 28.27\n",
      "Volume: 113.10\n"
     ]
    }
   ],
   "source": [
    "import math\n",
    "\n",
    "densities = {\"Al\" : [0.5, 1, 2], \"Fe\" : [3, 4, 5], \"Pb\" : [15, 20, 30]}\n",
    "radii = [1, 2, 3]\n",
    "\n",
    "for x, r in zip(densities, radii):\n",
    "    print('Radius: ' + str(r))\n",
    "    for i in densities:\n",
    "        material = densities[i] # it contains densities for each material\n",
    "        \n",
    "        C = 2*math.pi*r\n",
    "        P1 = C*material[0]\n",
    "        \n",
    "        A = math.pi*pow(r,2)\n",
    "        P2 = A*material[1]\n",
    "        \n",
    "        V = (4/3)*math.pi*pow(r,3)\n",
    "        P3 = V*material[2]\n",
    "        print(i + ': circle ' + f'{P1:4.2f}' + ' disk ' + f'{P2:4.2f}' + ' sphere ' + f'{P3:4.2f}')\n",
    "    \n",
    "print(' ')\n",
    "\n",
    "circumference = lambda x: 2*math.pi*x\n",
    "area = lambda x: math.pi*pow(x,2)\n",
    "volume = lambda x: (4/3)*math.pi*pow(x,3)\n",
    "\n",
    "listC = [circumference(r) for r in radii] # comprehensive list for the circumference function\n",
    "listA = [area(r) for r in radii] # comprehensive list for the area function\n",
    "listV = [volume(r) for r in radii] # comprehensive list for the volume function\n",
    "\n",
    "for i in range(len(radii)):\n",
    "    print('Radii: ' + f'{radii[i]:4.0f}')\n",
    "    print('Circumference: ' + f'{listC[i]:4.2f}')\n",
    "    print('Area: ' + f'{listA[i]:4.2f}')\n",
    "    print('Volume: ' + f'{listV[i]:4.2f}')"
   ]
  },
  {
   "cell_type": "markdown",
   "metadata": {},
   "source": [
    "6\\. Edit the class defintion to add an instance attribute of `is_hungry = True` to the Dog class. Then add a method called `eat()` which changes the value of `is_hungry` to `False` when called. Figure out the best way to instantiate the dog objects and to feed the dogs, e.g. call the `eat()` method for all instances. Finally, print “My dogs are hungry.” or “My dogs are not hungry.” if all of them have `is_hungry = True` or `False`, respectively. The final output should look like this:\n",
    "\n",
    "`I have 3 dogs. \n",
    "Tom is 6. \n",
    "Fletcher is 7. \n",
    "Larry is 9. \n",
    "And they're all mammals, of course. \n",
    "My dogs are not hungry.\n",
    "`\n",
    "\n",
    "```python\n",
    "# Parent class\n",
    "class Dog:\n",
    "\n",
    "    # Class attribute\n",
    "    species = 'mammal'\n",
    "\n",
    "    # Initializer / Instance attributes\n",
    "    def __init__(self, name, age):\n",
    "        self.name = name\n",
    "        self.age = age\n",
    "\n",
    "    # instance method\n",
    "    def description(self):\n",
    "        return \"{} is {} years old\".format(self.name, self.age)\n",
    "\n",
    "    # instance method\n",
    "    def speak(self, sound):\n",
    "        return \"{} says {}\".format(self.name, sound)\n",
    "\n",
    "# Child class (inherits from Dog class)\n",
    "class RussellTerrier(Dog):\n",
    "    def run(self, speed):\n",
    "        return \"{} runs {}\".format(self.name, speed)\n",
    "\n",
    "# Child class (inherits from Dog class)\n",
    "class Bulldog(Dog):\n",
    "    def run(self, speed):\n",
    "        return \"{} runs {}\".format(self.name, speed)\n",
    "```"
   ]
  },
  {
   "cell_type": "code",
   "execution_count": 8,
   "metadata": {
    "scrolled": true
   },
   "outputs": [
    {
     "name": "stdout",
     "output_type": "stream",
     "text": [
      "I have 3 dogs.\n",
      "Tom is 6.\n",
      "Fletcher is 7.\n",
      "Larry is 9.\n",
      "They're all mammals, of course.\n",
      "My dogs are not hungry.\n"
     ]
    }
   ],
   "source": [
    "# Parent class\n",
    "class Dog:\n",
    "\n",
    "    # Class attribute\n",
    "    species = 'mammal'\n",
    "    is_hungry = True\n",
    "\n",
    "    # Initializer / Instance attributes\n",
    "    def __init__(self, name, age):\n",
    "        self.name = name\n",
    "        self.age = age\n",
    "\n",
    "    # instance method\n",
    "    def description(self):\n",
    "        return \"{} is {} years old\".format(self.name, self.age)\n",
    "\n",
    "    # instance method\n",
    "    def speak(self, sound):\n",
    "        return \"{} says {}\".format(self.name, sound)\n",
    "    \n",
    "    # instance method\n",
    "    def eat(self):\n",
    "        self.is_hungry = False\n",
    "\n",
    "# Child class (inherits from Dog class)\n",
    "class RussellTerrier(Dog):\n",
    "    def run(self, speed):\n",
    "        return \"{} runs {}\".format(self.name, speed)\n",
    "\n",
    "# Child class (inherits from Dog class)\n",
    "class Bulldog(Dog):\n",
    "    def run(self, speed):\n",
    "        return \"{} runs {}\".format(self.name, speed)\n",
    "    \n",
    "print('I have 3 dogs.')\n",
    "\n",
    "tom = Dog('Tom',6)\n",
    "fletcher = RussellTerrier('Fletcher',7)\n",
    "larry = Bulldog('Larry',9)\n",
    "\n",
    "print(tom.name + ' is ' + str(tom.age) + '.')\n",
    "print(fletcher.name + ' is ' + str(fletcher.age) + '.')\n",
    "print(larry.name + ' is ' + str(larry.age) + '.')\n",
    "print('They\\'re all ' + fletcher.species + 's, of course.')\n",
    "\n",
    "tom.eat()\n",
    "fletcher.eat()\n",
    "larry.eat()\n",
    "\n",
    "if tom.is_hungry == False and fletcher.is_hungry == False and larry.is_hungry == False:\n",
    "    print('My dogs are not hungry.')\n",
    "else:\n",
    "    print('My dogs are hungry.')"
   ]
  },
  {
   "cell_type": "code",
   "execution_count": null,
   "metadata": {},
   "outputs": [],
   "source": []
  }
 ],
 "metadata": {
  "kernelspec": {
   "display_name": "Python 3",
   "language": "python",
   "name": "python3"
  },
  "language_info": {
   "codemirror_mode": {
    "name": "ipython",
    "version": 3
   },
   "file_extension": ".py",
   "mimetype": "text/x-python",
   "name": "python",
   "nbconvert_exporter": "python",
   "pygments_lexer": "ipython3",
   "version": "3.8.8"
  }
 },
 "nbformat": 4,
 "nbformat_minor": 2
}
